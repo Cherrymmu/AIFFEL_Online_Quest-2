{
  "nbformat": 4,
  "nbformat_minor": 0,
  "metadata": {
    "colab": {
      "provenance": [],
      "authorship_tag": "ABX9TyPqPQV4SYUEJqKhbsIXx33Z",
      "include_colab_link": true
    },
    "kernelspec": {
      "name": "python3",
      "display_name": "Python 3"
    },
    "language_info": {
      "name": "python"
    }
  },
  "cells": [
    {
      "cell_type": "markdown",
      "metadata": {
        "id": "view-in-github",
        "colab_type": "text"
      },
      "source": [
        "<a href=\"https://colab.research.google.com/github/YounghyeonK/AIFFEL_Online_Quest/blob/main/Main_Quest01/Main_Quest01.ipynb\" target=\"_parent\"><img src=\"https://colab.research.google.com/assets/colab-badge.svg\" alt=\"Open In Colab\"/></a>"
      ]
    },
    {
      "cell_type": "markdown",
      "source": [
        "# **Main Quest01 - 1번**"
      ],
      "metadata": {
        "id": "5jh2aIUpa5Ch"
      }
    },
    {
      "cell_type": "code",
      "execution_count": 121,
      "metadata": {
        "colab": {
          "base_uri": "https://localhost:8080/"
        },
        "id": "MTz3z_wa5fTw",
        "outputId": "376c25a8-aaa0-438f-998a-e125efa48e00"
      },
      "outputs": [
        {
          "output_type": "stream",
          "name": "stdout",
          "text": [
            "생성된 계좌의 개수는 1개입니다.\n",
            "입금할 금액을 입력해주세요.(입금은 1원 이상만 가능합니다.) : 10000\n",
            "10000이 입금되었습니다. 현재 잔고는 20000원입니다.\n",
            "입금할 금액을 입력해주세요.(입금은 1원 이상만 가능합니다.) : 20000\n",
            "20000이 입금되었습니다. 현재 잔고는 40000원입니다.\n",
            "입금할 금액을 입력해주세요.(입금은 1원 이상만 가능합니다.) : 30000\n",
            "30000이 입금되었습니다. 현재 잔고는 70000원입니다.\n",
            "입금할 금액을 입력해주세요.(입금은 1원 이상만 가능합니다.) : 0\n",
            "1원 이상을 입력해주세요.\n",
            "입금할 금액을 입력해주세요.(입금은 1원 이상만 가능합니다.) : 200000\n",
            "200000이 입금되었습니다. 현재 잔고는 270000원입니다.\n",
            "입금할 금액을 입력해주세요.(입금은 1원 이상만 가능합니다.) : 30000\n",
            "30000이 입금되었습니다. 현재 잔고는 300000원입니다.\n",
            "5회 입금되었습니다. 1%의 이자 3000원이 지급되었습니다. \n",
            "현재 잔고는 303000원입니다.\n",
            "출금할 금액을 입력해주세요 : 20000\n",
            "20000원이 출금되었습니다. 현재 잔고는 283000원입니다.\n",
            "(은행이름: SC은행, 예금주: 강영현, 계좌번호: 286-38-371949, 잔고: 283,000원)\n",
            "입금 내역 : [20000, 40000, 70000, 270000, 303000]원\n",
            "출금 내역 : [283000]원\n",
            "----------------------------------------------------------------------\n",
            "(은행이름: SC은행, 예금주: 파이썬, 계좌번호: 347-54-579979, 잔고: 1,500,000원)\n"
          ]
        }
      ],
      "source": [
        "from random import * # random 모듈에서 randint 함수 불러오기\n",
        "\n",
        "class Account:\n",
        "  num_accounts = 0 # Account 클래스를 생성 후 클래스 변수를 생성\n",
        "\n",
        "  def __init__(self, name, first_money): # Account 클래스 생성 후 생성자 구현\n",
        "    self.name = name\n",
        "    self.total_money = first_money\n",
        "    self.bank = 'SC은행'\n",
        "    self.number = f'{randint(111, 999)}-{randint(11, 99)}-{randint(111111, 999999)}' # 랜덤한 계좌번호 생성\n",
        "    self.count = 0  # 5회 입금 시 이자 지불을 위한 회\n",
        "    self.deposit_history_list = []\n",
        "    self.withdraw_history_list = []\n",
        "    Account.num_accounts += 1 # 생성된 계좌 객체의 개수를 저장\n",
        "\n",
        "  def get_account_num(self): # 계좌의 개수를 출력하는 메서드\n",
        "    print(f'생성된 계좌의 개수는 {Account.num_accounts}개입니다.')\n",
        "\n",
        "  def deposit(self): # 입금을 위한 메서드\n",
        "    in_ = 0\n",
        "    #count = 0\n",
        "    while in_ < 1: # while 반복문을 통해 1원 이상의 금액만 입금받도록 함\n",
        "      in_ = int(input('입금할 금액을 입력해주세요.(입금은 1원 이상만 가능합니다.) : '))\n",
        "      #count += 1\n",
        "      if in_ < 1:\n",
        "        print('1원 이상을 입력해주세요.')\n",
        "      else:\n",
        "        self.total_money = self.total_money + in_\n",
        "        print(f'{in_}이 입금되었습니다. 현재 잔고는 {self.total_money}원입니다.')\n",
        "        self.count += 1\n",
        "        if self.count == 5:\n",
        "          print(f'5회 입금되었습니다. 1%의 이자 {int(self.total_money *0.01)}원이 지급되었습니다. \\n현재 잔고는 {int(self.total_money + self.total_money * 0.01)}원입니다.')\n",
        "          self.total_money = int(self.total_money + self.total_money * 0.01)\n",
        "          self.count = 0\n",
        "      #elif in_ >= 1 and count = 5 :\n",
        "        #print(f'{in_}이 입금되었습니다. 현재 잔고는 {(self.first_money + in_)+(self.first_money + in_)*0.01}원입니다.')\n",
        "      #elif count = 5 :\n",
        "        #self.total_money = (self.first_money + in_)+(self.first_money + in_)*0.01\n",
        "    self.deposit_history_list.append(self.total_money) # 입금 내역을 self.deposit_history_list에 append해줌\n",
        "    #self.total_money = self.first_money + in_\n",
        "\n",
        "  def withdraw(self): # 출금을 위한 메서드\n",
        "    out = self.total_money + 1 # 이 부분이 제대로 숙지가 안 돼서 헷갈렸는데.. while 반복문을 실행시켜주기 위해 +1을 했다.. 작동은 했는데 내가 이해한 게 맞나..?\n",
        "    #while out > self.first_money or out > self.first_money + in_:\n",
        "    #while out > self.first_money or out > self.total_money:\n",
        "    while out > self.total_money: # 계좌의 잔고 이상으로 출금할 경우 input 입력창이 반복되도록\n",
        "      out = int(input('출금할 금액을 입력해주세요 : '))\n",
        "      #if out > self.frist_money or out > self.first_money + in_:\n",
        "      #if out > self.frist_money or out > self.total_money:\n",
        "      if out > self.total_money:  # 계좌의 잔고 이상으로 출금할 경우 불가능 메세지를 출력\n",
        "        print('출금은 계좌의 잔고 이상으로 출금할 수 없습니다.')\n",
        "      # out = int(input('출금할 금액을 입력해주세요 : '))\n",
        "        #continue\n",
        "      else: # 그밖의 경우엔 출금된 금액과 현재 잔고를 표시\n",
        "        print(f'{out}원이 출금되었습니다. 현재 잔고는 {self.total_money - out}원입니다.')\n",
        "\n",
        "    self.total_money =  self.total_money - out\n",
        "    self.withdraw_history_list.append(self.total_money) # 출금 내역을 self.withdraw_history_list에 append해줌\n",
        "  def display_info(self): # Account 인스턴스에 저장된 정보를 출력하는 메서드\n",
        "    print(f'(은행이름: {self.bank}, 예금주: {self.name}, 계좌번호: {self.number}, 잔고: {self.total_money:,}원)')\n",
        "\n",
        "  def deposit_history(self): # 입금 내역 메서드\n",
        "    print(f'입금 내역 : {self.deposit_history_list}원')\n",
        "\n",
        "  def withdraw_history(self): # 출금 내역 메서드\n",
        "    print(f'출금 내역 : {self.withdraw_history_list}원')\n",
        "\n",
        "\n",
        "\n",
        "\n",
        "a = Account('강영현', 10000)\n",
        "a.get_account_num()\n",
        "a.deposit() # 입금 5회 시 1%의 이자가 추가되는지 확인하기 위해 5번 호출\n",
        "a.deposit()\n",
        "a.deposit()\n",
        "a.deposit()\n",
        "a.deposit()\n",
        "a.withdraw()\n",
        "a.display_info()\n",
        "a.deposit_history()\n",
        "a.withdraw_history()\n",
        "print('-' * 703)\n",
        "b = Account('파이썬', 1500000)\n",
        "c = Account('김미미', 200000)\n",
        "\n",
        "account_list = [a, b, c]\n",
        "\n",
        "# account_list[0].display_info()\n",
        "# account_list[1].display_info()\n",
        "# account_list[2].display_info()\n",
        "\n",
        "for i in account_list: # 객체를 순회하여 잔고가 100만원 이상인 고객의 정보만 출력\n",
        "  if i.total_money >= 1000000:\n",
        "    i.display_info()"
      ]
    },
    {
      "cell_type": "code",
      "source": [
        "from random import * # randint함수 확인용 :)\n",
        "a = f'{randint(111, 999)}-{randint(11, 99)}-{randint(111111, 999999)}'\n",
        "print(a)"
      ],
      "metadata": {
        "colab": {
          "base_uri": "https://localhost:8080/"
        },
        "id": "7RDUNtZq_rTb",
        "outputId": "b2d05fd6-d5d3-4088-d714-c28f47054d2b"
      },
      "execution_count": 120,
      "outputs": [
        {
          "output_type": "stream",
          "name": "stdout",
          "text": [
            "330-43-599064\n"
          ]
        }
      ]
    },
    {
      "cell_type": "markdown",
      "source": [
        "# **Main Quest01 - 2번**"
      ],
      "metadata": {
        "id": "TxowmsUdbMkW"
      }
    },
    {
      "cell_type": "code",
      "source": [
        "class Aiffel:\n",
        "  def __init__(self, 이름, 입학년도, 기수, 과정명):\n",
        "    self.name = 이름\n",
        "    self.year = 입학년도\n",
        "    self.times = 기수\n",
        "    self.curriculum = 과정\n",
        "\n",
        "\n",
        "\n",
        "\n"
      ],
      "metadata": {
        "id": "ZFXuOuRYbTpT"
      },
      "execution_count": null,
      "outputs": []
    },
    {
      "cell_type": "markdown",
      "source": [
        "## 회고문:\n",
        "\n",
        "사실 제가 아직 파이썬에 미숙하기 때문에 퀘스트 두 문제 중 하나만이라도 풀자는 마음으로 했습니다. 한 문제를 푸는 데도 거의 하루가 걸리는데 이게 맞나 싶네요..\n",
        "하지만 클래스 개념을 방금 전에 배운 상태이고, 문제를 풀다 보니 좀 더 이해가 되는 것 같기도 합니다.(하지만 아직도 어렵습니다..!)\n",
        "그래도 좀 더 실력을 늘리도록 많이 공부하고 연습해보도록 하겠습니다.\n",
        "\n",
        "# K :\n",
        "      문제점과 오류를 해결하기 위해서 노드를 재확인하고 구글링을 해본 것.\n",
        "      오류나거나 새로운 코드를 작성했을 때 주석 처리를 하여 작성 코드를 날리지 않은 것.\n",
        "# T :\n",
        "      차분한 마음으로 좀 더 코드를 읽으려고 노력할 것.\n",
        "      구글링을 좀 더 딥하게 해볼 것(글이 많으면 안 읽으려고 하는 자세 고치기..)\n",
        "      초반에 배운 내용은 주말에 복습하기\n",
        "      주석을 다는 것을 습관화하고, 파이썬 용어에 익숙해지기 위해 많이 공부할 것.\n",
        "# P :\n",
        "      주석을 달고 설명을 하는 게 미숙하며, 코딩과 동시에 하는 걸 아직 어려워함.\n",
        "      아직도 반복문, 데코레이터 등 초반에 배운 내용이 덜 숙지된 것."
      ],
      "metadata": {
        "id": "-4nekhnkYEBm"
      }
    }
  ]
}