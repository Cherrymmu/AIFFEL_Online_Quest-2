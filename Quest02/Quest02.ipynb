{
  "nbformat": 4,
  "nbformat_minor": 0,
  "metadata": {
    "colab": {
      "provenance": [],
      "authorship_tag": "ABX9TyOkb7PjCU23stTjcPJwOx6N",
      "include_colab_link": true
    },
    "kernelspec": {
      "name": "python3",
      "display_name": "Python 3"
    },
    "language_info": {
      "name": "python"
    }
  },
  "cells": [
    {
      "cell_type": "markdown",
      "metadata": {
        "id": "view-in-github",
        "colab_type": "text"
      },
      "source": [
        "<a href=\"https://colab.research.google.com/github/YounghyeonK/AIFFEL_Online_Quest/blob/main/Quest02/Quest02.ipynb\" target=\"_parent\"><img src=\"https://colab.research.google.com/assets/colab-badge.svg\" alt=\"Open In Colab\"/></a>"
      ]
    },
    {
      "cell_type": "code",
      "execution_count": 32,
      "metadata": {
        "id": "o0dHqJ-HrG1D"
      },
      "outputs": [],
      "source": [
        "fish_list = [{\"이름\": \"Nemo\", \"speed\": 3}, {\"이름\": \"Dory\", \"speed\": 5}]"
      ]
    },
    {
      "cell_type": "code",
      "source": [
        "fish_list"
      ],
      "metadata": {
        "colab": {
          "base_uri": "https://localhost:8080/"
        },
        "id": "Z2GxX5o4uWz2",
        "outputId": "e9b02048-21e2-46bd-d962-c6c8f9cd81b3"
      },
      "execution_count": 2,
      "outputs": [
        {
          "output_type": "execute_result",
          "data": {
            "text/plain": [
              "[{'이름': 'Nemo', 'speed': 3}, {'이름': 'Dory', 'speed': 5}]"
            ]
          },
          "metadata": {},
          "execution_count": 2
        }
      ]
    },
    {
      "cell_type": "code",
      "source": [
        "# 리스트컴프리헨션\n",
        "def show_fish_movement_comprehension(args) :\n",
        "  if type(args) != list : # 인수로 list 외의 것이 들어왔을 때 오류가 나게 한다.\n",
        "   raise ValueError(\"리스트만 넣어주세요\")\n",
        "\n",
        "  result = [arg['이름'] + ' is swimming at ' + str(arg['speed']) + 'm/s' for arg in args if type(arg) == dict and '이름' in arg.keys() and 'speed' in arg.keys()]\n",
        "  return result"
      ],
      "metadata": {
        "id": "IEnghyGTuhOo"
      },
      "execution_count": 14,
      "outputs": []
    },
    {
      "cell_type": "code",
      "source": [
        "# 제너레이터\n",
        "def show_fish_movement_generator(args) :\n",
        "  if type(args) != list : # 인수로 list 외의 것이 들어왔을 때 오류가 나게 한다.\n",
        "    raise ValueError(\"리스트만 넣어주세요\")\n",
        "\n",
        "  for arg in args :\n",
        "    if type(arg) == dict and '이름' in arg.keys() and 'speed' in arg.keys() :\n",
        "      yield arg['이름'] + ' is swimming at ' + str(arg['speed']) + 'm/s'"
      ],
      "metadata": {
        "id": "v03cLPXEAP2C"
      },
      "execution_count": 43,
      "outputs": []
    },
    {
      "cell_type": "code",
      "source": [
        "gen = show_fish_movement_generator(fish_list)\n",
        "print(gen())\n",
        "print(gen())"
      ],
      "metadata": {
        "colab": {
          "base_uri": "https://localhost:8080/",
          "height": 221
        },
        "id": "0-PGkPzGCJk9",
        "outputId": "c32a2e41-4bee-4f9d-bb97-29cec2f855cc"
      },
      "execution_count": 42,
      "outputs": [
        {
          "output_type": "error",
          "ename": "TypeError",
          "evalue": "ignored",
          "traceback": [
            "\u001b[0;31m---------------------------------------------------------------------------\u001b[0m",
            "\u001b[0;31mTypeError\u001b[0m                                 Traceback (most recent call last)",
            "\u001b[0;32m<ipython-input-42-6fd68e9a4746>\u001b[0m in \u001b[0;36m<cell line: 2>\u001b[0;34m()\u001b[0m\n\u001b[1;32m      1\u001b[0m \u001b[0mgen\u001b[0m \u001b[0;34m=\u001b[0m \u001b[0mshow_fish_movement_generator\u001b[0m\u001b[0;34m(\u001b[0m\u001b[0mfish_list\u001b[0m\u001b[0;34m)\u001b[0m\u001b[0;34m\u001b[0m\u001b[0;34m\u001b[0m\u001b[0m\n\u001b[0;32m----> 2\u001b[0;31m \u001b[0mprint\u001b[0m\u001b[0;34m(\u001b[0m\u001b[0mgen\u001b[0m\u001b[0;34m(\u001b[0m\u001b[0;34m)\u001b[0m\u001b[0;34m)\u001b[0m\u001b[0;34m\u001b[0m\u001b[0;34m\u001b[0m\u001b[0m\n\u001b[0m\u001b[1;32m      3\u001b[0m \u001b[0mprint\u001b[0m\u001b[0;34m(\u001b[0m\u001b[0mgen\u001b[0m\u001b[0;34m(\u001b[0m\u001b[0;34m)\u001b[0m\u001b[0;34m)\u001b[0m\u001b[0;34m\u001b[0m\u001b[0;34m\u001b[0m\u001b[0m\n",
            "\u001b[0;31mTypeError\u001b[0m: 'generator' object is not callable"
          ]
        }
      ]
    }
  ]
}